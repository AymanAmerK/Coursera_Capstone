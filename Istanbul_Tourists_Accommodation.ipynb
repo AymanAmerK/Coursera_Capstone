{
 "cells": [
  {
   "cell_type": "markdown",
   "metadata": {},
   "source": [
    "## Part One:"
   ]
  },
  {
   "cell_type": "markdown",
   "metadata": {},
   "source": [
    "### Introduction/Business Problem:\n",
    "    Being one of best spots to feel both the majestic taste of the east and the modernity of the west, with more than 15 million foreign visitors in 2019. Accommodation is a crucial part of the traveling process, usually tourists spend some time looking for the best option, whether staying in a hotel or renting an apartment using services like Airbnb, the area has also to be convenient to stay in, where historical and entertainment places are accessible. Another crucial point is the price, depending on the budget goes choosing the accommodation type and place. In this project, I will try to help accelerating the decision process by providing all the needed information derived from hotels around Istanbul and Airbnb renting data for tourists to weight and have an holistic overview of all possible options.\n",
    "    \n",
    "### Data Discribtion:\n",
    "    In this project I will be using two sources of data, first is the Forsquare location data to get the name of the hotels and the boroughs they belong to in the first step, then deriving the most common venues in each borough. To get the complete picture, I will be using Airbnb data, to get the prices and both latitude and longitude of each presented unit. For example, Istanbul has 39 borough and a touristic could be Fatih, so first we will be using Forsquare to get the hotels in this part of the city and then get the common venues like restaurants, cafes, and museums. In the next step the Airbnb rentals will be added to the equation, how much does each cost and its type alongside other details derived from Airbnb Istanbul of 2019 dataset."
   ]
  },
  {
   "cell_type": "code",
   "execution_count": 2,
   "metadata": {},
   "outputs": [],
   "source": [
    "import numpy as np \n",
    "import pandas as pd\n",
    "import seaborn as sns\n",
    "import matplotlib.pyplot as plt\n",
    "%matplotlib inline\n",
    "import folium\n",
    "\n",
    "import json # library to handle JSON files\n",
    "\n",
    "#!conda install -c conda-forge geopy --yes # uncomment this line if you haven't completed the Foursquare API lab\n",
    "from geopy.geocoders import Nominatim # convert an address into latitude and longitude values\n",
    "\n",
    "import requests # library to handle requests\n",
    "from pandas.io.json import json_normalize # tranform JSON file into a pandas dataframe\n",
    "\n",
    "# Matplotlib and associated plotting modules\n",
    "import matplotlib.cm as cm\n",
    "import matplotlib.colors as colors\n",
    "\n",
    "# import k-means from clustering stage\n",
    "from sklearn.cluster import KMeans        \n",
    "\n",
    "\n",
    "\n",
    "import requests # library to handle requests\n",
    "import random # library for random number generation\n",
    "\n",
    "\n",
    "from geopy.geocoders import Nominatim # module to convert an address into latitude and longitude values\n",
    "\n",
    "# libraries for displaying images\n",
    "from IPython.display import Image \n",
    "from IPython.core.display import HTML "
   ]
  },
  {
   "cell_type": "code",
   "execution_count": null,
   "metadata": {},
   "outputs": [],
   "source": []
  }
 ],
 "metadata": {
  "kernelspec": {
   "display_name": "Python 3",
   "language": "python",
   "name": "python3"
  },
  "language_info": {
   "codemirror_mode": {
    "name": "ipython",
    "version": 3
   },
   "file_extension": ".py",
   "mimetype": "text/x-python",
   "name": "python",
   "nbconvert_exporter": "python",
   "pygments_lexer": "ipython3",
   "version": "3.8.3"
  }
 },
 "nbformat": 4,
 "nbformat_minor": 4
}
